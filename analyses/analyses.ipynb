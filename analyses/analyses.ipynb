{
 "cells": [
  {
   "cell_type": "code",
   "execution_count": 32,
   "metadata": {},
   "outputs": [],
   "source": [
    "import os\n",
    "import pandas as pd\n",
    "import numpy as np\n",
    "import seaborn as sns \n",
    "import matplotlib.pyplot as plt \n",
    "\n",
    "from scipy import stats\n",
    "\n",
    "import brian2hears as bh\n",
    "from brian2.units import kHz\n",
    "\n",
    "from analyses_helper import calc_smi\n",
    "\n",
    "import importlib\n",
    "\n",
    "import analyses_helper\n",
    "importlib.reload(analyses_helper)\n",
    "from analyses_helper import *\n",
    "\n",
    "import warnings\n",
    "warnings.filterwarnings('ignore')"
   ]
  },
  {
   "cell_type": "code",
   "execution_count": 6,
   "metadata": {},
   "outputs": [
    {
     "data": {
      "text/plain": [
       "NMDA_WEIGHT  AMPA_WEIGHT  GABA_WEIGHT  ALPHA\n",
       "0.00         0.5          0.00         0.2      9\n",
       "                                       0.4      9\n",
       "                                       0.6      9\n",
       "                                       0.8      9\n",
       "                                       1.0      9\n",
       "                          0.01         1.0      9\n",
       "                          0.03         1.0      9\n",
       "                          0.05         1.0      9\n",
       "0.05         0.5          0.00         1.0      9\n",
       "                          0.01         1.0      9\n",
       "                          0.03         1.0      9\n",
       "                          0.05         1.0      9\n",
       "dtype: object"
      ]
     },
     "execution_count": 6,
     "metadata": {},
     "output_type": "execute_result"
    }
   ],
   "source": [
    "# read in data and print out parameter combinations \n",
    "data = pd.read_pickle(r'../data/model_results/nmda_ampa_alpha.pkl')\n",
    "data[[\"NMDA_WEIGHT\", \"AMPA_WEIGHT\", \"GABA_WEIGHT\"]] = data[[\"NMDA_WEIGHT\", \"AMPA_WEIGHT\", \"GABA_WEIGHT\"]].apply(pd.to_numeric)\n",
    "data[[\"AMPA_WEIGHT\", \"NMDA_WEIGHT\", \"GABA_WEIGHT\", \"DELAY\"]] = data[[\"AMPA_WEIGHT\", \"NMDA_WEIGHT\", \"GABA_WEIGHT\", \"DELAY\"]].astype(float)\n",
    "data.groupby([\"NMDA_WEIGHT\", \"AMPA_WEIGHT\", \"GABA_WEIGHT\", \"ALPHA\"]).apply(lambda x: np.max(x['ITER']))"
   ]
  },
  {
   "cell_type": "code",
   "execution_count": 14,
   "metadata": {},
   "outputs": [
    {
     "name": "stderr",
     "output_type": "stream",
     "text": [
      "/home/gwa18/auditory/code/dendritic_integration/analyses/analyses_helper.py:39: RuntimeWarning: divide by zero encountered in scalar divide\n",
      "/home/gwa18/auditory/code/dendritic_integration/analyses/analyses_helper.py:39: RuntimeWarning: invalid value encountered in scalar divide\n"
     ]
    }
   ],
   "source": [
    "# calculate smi distributions \n",
    "smis = data.groupby(['AMPA_WEIGHT', 'NMDA_WEIGHT', 'GABA_WEIGHT', 'ALPHA', 'clipA', 'clipB', 'DELAY']).apply(lambda x: calc_smi(x)).reset_index()\n",
    "smi_vals = pd.DataFrame(smis[0].tolist(), columns=['ra', 'rb', 'rab', 'smi'])\n",
    "smis = smis.join(smi_vals)\n",
    "\n",
    "max_smi = smis.groupby(['AMPA_WEIGHT', 'NMDA_WEIGHT', 'GABA_WEIGHT', 'ALPHA', 'clipA', 'clipB']).apply(lambda x: calc_max_smi(x)).reset_index()\n",
    "max_vals = pd.DataFrame(max_smi[0].tolist(), columns=['smi', 'DELAY'])\n",
    "max_smi = max_smi.join(max_vals)"
   ]
  },
  {
   "cell_type": "code",
   "execution_count": 30,
   "metadata": {},
   "outputs": [
    {
     "data": {
      "image/png": "[encoded data removed]",
      "text/plain": [
       "<Figure size 320x200 with 1 Axes>"
      ]
     },
     "execution_count": 30,
     "metadata": {},
     "output_type": "execute_result"
    }
   ],
   "source": [
    "# figure 4a\n",
    "ampa_only = smis[(smis['ALPHA']==\"1.0\") & \n",
    "                 (smis['NMDA_WEIGHT']==0.0) &\n",
    "                 (smis['GABA_WEIGHT']==0.0)]\n",
    "\n",
    "upper = np.ma.masked_invalid(ampa_only['smi'].values).max()\n",
    "ampa_clip = ampa_only\n",
    "ampa_clip.loc[ampa_only['smi'] == np.inf, 'smi'] = upper + 1 \n",
    "\n",
    "plot_hist(ampa_clip, (3.2, 2))\n",
    "#plt.savefig(\"./figs/ampa05.pdf\", transparent=True, dpi=500)"
   ]
  },
  {
   "cell_type": "code",
   "execution_count": 27,
   "metadata": {},
   "outputs": [
    {
     "data": {
      "image/png": "[encoded data removed]",
      "text/plain": [
       "<Figure size 320x200 with 1 Axes>"
      ]
     },
     "execution_count": 27,
     "metadata": {},
     "output_type": "execute_result"
    }
   ],
   "source": [
    "# figure 4b\n",
    "ampa_max = max_smi[(max_smi['ALPHA']==\"1.0\") & \n",
    "                 (max_smi['NMDA_WEIGHT']==0.0) &\n",
    "                 (max_smi['GABA_WEIGHT']==0.0)]\n",
    "\n",
    "plot_hist(ampa_max, (3.2, 2))"
   ]
  },
  {
   "cell_type": "code",
   "execution_count": 20,
   "metadata": {},
   "outputs": [
    {
     "data": {
      "text/plain": [
       "<seaborn.axisgrid.FacetGrid at 0x7fa400f0a910>"
      ]
     },
     "execution_count": 20,
     "metadata": {},
     "output_type": "execute_result"
    },
    {
     "data": {
      "image/png": "[encoded data removed]",
      "text/plain": [
       "<Figure size 540x200 with 3 Axes>"
      ]
     },
     "metadata": {},
     "output_type": "display_data"
    }
   ],
   "source": [
    "# figure 4c \n",
    "alpha_max = max_smi[(max_smi['GABA_WEIGHT']==0.0) & \n",
    "                    (max_smi['NMDA_WEIGHT']==0.0)]\n",
    "\n",
    "alpha_max_sub = alpha_max[(alpha_max['ALPHA']==\"1.0\") |\n",
    "                          (alpha_max['ALPHA']==\"0.6\") |\n",
    "                          (alpha_max['ALPHA']==\"0.2\")]\n",
    "\n",
    "alpha_max_sub['ALPHA'] = alpha_max_sub['ALPHA'].astype('category')\n",
    "alpha_max_sub['ALPHA'] = alpha_max_sub['ALPHA'].cat.reorder_categories([\"1.0\", \"0.6\", \"0.2\"])\n",
    "\n",
    "g = sns.FacetGrid(data=alpha_max_sub, col=\"ALPHA\", height=2, aspect=0.9)\n",
    "g.map(sns.histplot, \"smi\", bins=np.arange(-2, 4, 0.5), element=\"step\", fill=None)\n",
    "g.refline(x=0, linestyle='--', color='k', linewidth=1.0)\n",
    "g.refline(x=1, linestyle='--', color='k', linewidth=1.0)\n",
    "g.set(xticks=np.arange(-2, 2.5, 1))\n",
    "g.set(xlabel=\"SmI\")\n",
    "#plt.savefig(\"./figs/alpha.pdf\", transparent=True, dpi=500)"
   ]
  },
  {
   "cell_type": "code",
   "execution_count": 34,
   "metadata": {},
   "outputs": [
    {
     "data": {
      "image/png": "[encoded data removed]",
      "text/plain": [
       "<Figure size 220x175 with 1 Axes>"
      ]
     },
     "execution_count": 34,
     "metadata": {},
     "output_type": "execute_result"
    }
   ],
   "source": [
    "# figure 4d \n",
    "sns.reset_defaults()\n",
    "nmda_smi = max_smi[(max_smi['NMDA_WEIGHT']==0.05) &\n",
    "                   (max_smi['GABA_WEIGHT']!=0.01) &\n",
    "                   (max_smi['GABA_WEIGHT']!=0.05)] \n",
    "nmda_smi['params'] = max_smi['NMDA_WEIGHT'] + max_smi['GABA_WEIGHT']\n",
    "\n",
    "ampa_only = max_smi[(max_smi['NMDA_WEIGHT']==0.0) & (max_smi['ALPHA']==\"1.0\") & (max_smi['GABA_WEIGHT']==0)]\n",
    "ampa_only['params'] = 0\n",
    "\n",
    "nmda_ampa = pd.concat([ampa_only, nmda_smi], ignore_index=True)\n",
    "nmda_ampa['params'] = nmda_ampa['params'].astype('category')\n",
    "\n",
    "plot_hist(nmda_ampa, (2.2, 1.75))"
   ]
  },
  {
   "cell_type": "code",
   "execution_count": 38,
   "metadata": {},
   "outputs": [
    {
     "data": {
      "text/plain": [
       "KruskalResult(statistic=224.6489304375093, pvalue=8.757503070391349e-51)"
      ]
     },
     "execution_count": 38,
     "metadata": {},
     "output_type": "execute_result"
    }
   ],
   "source": [
    "# overlap between dendritic profiles \n",
    "dist = pd.read_pickle(r\"../data/model_results/dendrites_ampa.pkl\")\n",
    "dist2 = dist[[\"clipA\", \"clipB\", \"DELAY\"]]\n",
    "dist2['tcorr'] = np.nan\n",
    "dist2['scorr'] = np.nan\n",
    "\n",
    "for index, row in dist.iterrows():\n",
    "    d1 = pd.DataFrame(row['A']).to_numpy().T\n",
    "    d2 = pd.DataFrame(row['B']).to_numpy().T\n",
    "\n",
    "    d1_t = np.nansum(d1, axis=0)\n",
    "    d2_t = np.nansum(d2, axis=0)\n",
    "\n",
    "    d1_s = np.nansum(d1, axis=1)\n",
    "    d2_s = np.nansum(d2, axis=1)\n",
    "\n",
    "    dist2.loc[index, 'tcorr'] = np.corrcoef(d1_t, d2_t)[0, 1]\n",
    "    dist2.loc[index, 'scorr'] = np.corrcoef(d1_s, d2_s)[0, 1]\n",
    "\n",
    "dist2['DELAY'] = pd.to_numeric(dist2['DELAY'])\n",
    "\n",
    "new_df = ampa_max.merge(dist2, how=\"left\", on=['clipA', 'clipB', 'DELAY'])\n",
    "new_df.replace([np.inf, -np.inf], np.nan, inplace=True)\n",
    "new_df.dropna(inplace=True)\n",
    "\n",
    "a1 = new_df[(new_df['tcorr'] > 0.3) & (new_df['scorr'] < 0.1)]\n",
    "a1['labs'] = \"dis_cor\"\n",
    "a2 = new_df[(new_df['tcorr'] < 0.3) & (new_df['scorr'] > 0.1)]\n",
    "a2['labs'] = \"clu_un\"\n",
    "\n",
    "compare = pd.concat([a1, a2])\n",
    "\n",
    "stats.kruskal(a1['smi'].values, a2['smi'].values)\n",
    "\n",
    "\n",
    "#fig, ax = plt.subplots(figsize=(2, 2))\n",
    "#sns.boxplot(data=compare, x=\"labs\", y=\"smi\", color=\"black\", fill=False, showfliers=False, ax=ax)\n",
    "#sns.stripplot(data=compare, x=\"labs\", y=\"smi\", color=\"gray\", alpha=0.8,  marker=\"$\\circ$\", ax=ax)\n",
    "#sns.despine()\n",
    "#plt.tight_layout()\n",
    "#plt.savefig(\"./figs/boxplot.pdf\", transparent=True, dpi=500)"
   ]
  }
 ],
 "metadata": {
  "kernelspec": {
   "display_name": "dendrites",
   "language": "python",
   "name": "python3"
  },
  "language_info": {
   "codemirror_mode": {
    "name": "ipython",
    "version": 3
   },
   "file_extension": ".py",
   "mimetype": "text/x-python",
   "name": "python",
   "nbconvert_exporter": "python",
   "pygments_lexer": "ipython3",
   "version": "3.11.6"
  }
 },
 "nbformat": 4,
 "nbformat_minor": 2
}
